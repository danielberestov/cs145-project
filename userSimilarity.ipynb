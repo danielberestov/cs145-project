{
 "cells": [
  {
   "cell_type": "code",
   "execution_count": 1,
   "metadata": {},
   "outputs": [],
   "source": [
    "import pandas as pd \n",
    "import numpy as np"
   ]
  },
  {
   "cell_type": "code",
   "execution_count": 2,
   "metadata": {},
   "outputs": [],
   "source": [
    "movie_rate = pd.read_csv('dataset/movie_rate.csv')"
   ]
  },
  {
   "cell_type": "code",
   "execution_count": 8,
   "metadata": {},
   "outputs": [
    {
     "name": "stdout",
     "output_type": "stream",
     "text": [
      "rated movies: 13686\n"
     ]
    }
   ],
   "source": [
    "#find all rated movies\n",
    "rated_movie = []\n",
    "for id,avg_rate in zip(movie_rate['movieId'], movie_rate['avg_rate']):\n",
    "    if avg_rate>0:\n",
    "        rated_movie.append(id)\n",
    "print('rated movies:', len(rated_movie))"
   ]
  },
  {
   "cell_type": "code",
   "execution_count": 14,
   "metadata": {},
   "outputs": [],
   "source": [
    "#convert movieID to feature Index\n",
    "movieIdtoInd = dict((id, index) for index,id in enumerate(rated_movie))\n",
    "user_hist = pd.read_csv('dataset/hist.csv')\n",
    "distMatric = np.zeros((len(user_hist['userId']), len(movieIdtoInd)))\n",
    "for id, hist in zip(user_hist['userId'], user_hist['hist']):\n",
    "    hist = eval(hist)\n",
    "    for movie, rating in hist.items():\n",
    "        distMatric[id-1][movieIdtoInd[movie]] = rating"
   ]
  },
  {
   "cell_type": "code",
   "execution_count": 17,
   "metadata": {},
   "outputs": [
    {
     "data": {
      "text/plain": [
       "(138493, 13686)"
      ]
     },
     "execution_count": 17,
     "metadata": {},
     "output_type": "execute_result"
    }
   ],
   "source": [
    "distMatric.shape"
   ]
  },
  {
   "cell_type": "code",
   "execution_count": 37,
   "metadata": {},
   "outputs": [],
   "source": [
    "from scipy.sparse.linalg import svds\n",
    "# set rank to perform compression\n",
    "rank = 100\n",
    "u, s, vt = svds(distMatric, k=rank)"
   ]
  },
  {
   "cell_type": "code",
   "execution_count": 38,
   "metadata": {},
   "outputs": [
    {
     "name": "stdout",
     "output_type": "stream",
     "text": [
      "[ 412.85495167  414.63520077  415.30192688  416.15930751  416.98567975\n",
      "  418.10442703  419.44060673  422.80546007  423.31560269  425.19408846\n",
      "  425.97504255  428.12992537  428.6950643   431.30539558  433.51916423\n",
      "  434.66723962  437.59522679  438.83463928  439.54252148  440.64626437\n",
      "  442.77018603  444.89795047  445.63954014  446.54188276  448.31718004\n",
      "  451.58450054  453.91397381  455.62960497  458.26875208  460.27406429\n",
      "  461.15255767  462.37359865  463.67110938  464.51676952  468.29960617\n",
      "  470.04410761  474.01764769  478.04709139  479.67745851  482.45858321\n",
      "  482.98872734  487.77300467  494.75757821  494.86951486  496.24249004\n",
      "  500.51838047  502.10815269  503.80083804  507.85922703  511.23215526\n",
      "  515.97561599  520.87668585  522.64263777  528.30470486  528.90008603\n",
      "  534.97243449  538.48410231  544.12340398  546.0902117   549.84089928\n",
      "  559.05782201  568.42845062  572.21831959  575.52660573  577.72873432\n",
      "  585.42862841  592.06485832  596.18932564  603.99386519  608.87214707\n",
      "  627.21785935  641.15912526  644.64811777  656.66297291  671.19776642\n",
      "  678.12029744  692.2994965   698.85401926  714.68492541  741.58894205\n",
      "  753.91461339  759.55648764  782.6358263   787.07239746  798.40190418\n",
      "  837.46439901  870.13134585  918.95709755  947.64487066 1002.58400451\n",
      " 1009.17656653 1160.96598324 1161.96686147 1288.91593645 1451.14288041\n",
      " 1682.69285667 1805.8587041  2055.96721916 2203.58787816 5936.87176333]\n"
     ]
    }
   ],
   "source": [
    "# set rank to perform compression\n",
    "print(s)"
   ]
  },
  {
   "cell_type": "code",
   "execution_count": 42,
   "metadata": {},
   "outputs": [],
   "source": [
    "distMatric = u[:,:rank].dot(np.diag(s))"
   ]
  },
  {
   "cell_type": "code",
   "execution_count": 44,
   "metadata": {},
   "outputs": [
    {
     "name": "stdout",
     "output_type": "stream",
     "text": [
      "[[ 1.73328927  0.88346262 -0.28652291 ...  1.43778875  0.83596461\n",
      "   4.93550701]\n",
      " [ 0.45030472  0.41344841 -1.5648731  ... -2.12526932  1.03083889\n",
      "   7.71332955]\n",
      " [ 0.54205648 -0.51058348  0.19033815 ...  0.7211643  -1.81848547\n",
      "   8.36001629]\n",
      " ...\n",
      " [ 0.16120939  0.92508033  0.25366484 ...  0.58057339  7.33698981\n",
      "   3.32186605]\n",
      " [ 0.79302906 -0.04788472 -0.4618275  ...  1.1735603   4.83366817\n",
      "   2.09199845]\n",
      " [ 0.90077263 -1.04515431 -1.34885154 ...  0.232175    3.70205892\n",
      "   2.11026992]]\n"
     ]
    }
   ],
   "source": [
    "print(distMatric)"
   ]
  },
  {
   "cell_type": "code",
   "execution_count": 46,
   "metadata": {},
   "outputs": [],
   "source": [
    "np.savetxt('distMarix.csv', distMatric, delimiter=',')"
   ]
  },
  {
   "cell_type": "code",
   "execution_count": 47,
   "metadata": {},
   "outputs": [],
   "source": [
    "np.savetxt('distMatrix2.csv', u[:,:rank], delimiter=',')"
   ]
  },
  {
   "cell_type": "code",
   "execution_count": null,
   "metadata": {},
   "outputs": [],
   "source": []
  }
 ],
 "metadata": {
  "kernelspec": {
   "display_name": "Python 3",
   "language": "python",
   "name": "python3"
  },
  "language_info": {
   "codemirror_mode": {
    "name": "ipython",
    "version": 3
   },
   "file_extension": ".py",
   "mimetype": "text/x-python",
   "name": "python",
   "nbconvert_exporter": "python",
   "pygments_lexer": "ipython3",
   "version": "3.7.1"
  }
 },
 "nbformat": 4,
 "nbformat_minor": 2
}
