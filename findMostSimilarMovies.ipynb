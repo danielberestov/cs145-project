{
 "cells": [
  {
   "cell_type": "code",
   "execution_count": 15,
   "metadata": {
    "scrolled": true
   },
   "outputs": [
    {
     "name": "stdout",
     "output_type": "stream",
     "text": [
      "The autoreload extension is already loaded. To reload it, use:\n",
      "  %reload_ext autoreload\n"
     ]
    }
   ],
   "source": [
    "import random\n",
    "import numpy as np\n",
    "from data_utils import *\n",
    "import matplotlib.pyplot as plt\n",
    "import time\n",
    "\n",
    "%matplotlib inline\n",
    "%load_ext autoreload\n",
    "%autoreload 2\n",
    "\n",
    "def rel_error(x, y):\n",
    "    \"\"\" returns relative error \"\"\"\n",
    "    return np.max(np.abs(x - y) / (np.maximum(1e-8, np.abs(x) + np.abs(y))))"
   ]
  },
  {
   "cell_type": "code",
   "execution_count": 16,
   "metadata": {
    "scrolled": true
   },
   "outputs": [],
   "source": [
    "#Creates the csv file with every movieId and their tag values. There are a total of 27,262 movies, yet only \n",
    "# 10,381 of them have genome scores. dict_mapping has the movieId as the key and the index of the numpy array created \n",
    "# in load_movie_tag_ids as the values. \n",
    "\n",
    "movieratepredictions_dir = 'movieratepredictions'\n",
    "dict_mapping = create_movie_tag_ids_vector_csv(movieratepredictions_dir, )\n"
   ]
  },
  {
   "cell_type": "code",
   "execution_count": 17,
   "metadata": {},
   "outputs": [],
   "source": [
    "np_Train = load_movie_tag_ids(\"dataset\", 'genome-scores-processed.csv')\n"
   ]
  },
  {
   "cell_type": "code",
   "execution_count": 18,
   "metadata": {
    "scrolled": true
   },
   "outputs": [
    {
     "name": "stdout",
     "output_type": "stream",
     "text": [
      "(10381, 1129)\n"
     ]
    }
   ],
   "source": [
    "#As I mentioned there are 10,381 total movies in the genome_score csv and there are 1128 tagIds\n",
    "# the shape is (10381,1129) since the movieId is a paramter, before the 1128 tagIds\n",
    "print(np_Train.shape)\n",
    "\n",
    "create_movie_tag_ids_vector_from_test_csv(movieratepredictions_dir, 'dataset/validation-scores-processed.csv',\n",
    "                                          'val_ratings.csv', np_Train, dict_mapping)"
   ]
  },
  {
   "cell_type": "code",
   "execution_count": 19,
   "metadata": {},
   "outputs": [
    {
     "name": "stdout",
     "output_type": "stream",
     "text": [
      "Computation time: 23.03\n",
      "(9928, 1129)\n"
     ]
    }
   ],
   "source": [
    "time_start =time.time()\n",
    "np_Val = load_movie_tag_ids(\"dataset\", 'validation-scores-processed.csv')\n",
    "print('Computation time: %.2f'%(time.time()-time_start))\n",
    "print(np_Val.shape)"
   ]
  },
  {
   "cell_type": "code",
   "execution_count": 20,
   "metadata": {},
   "outputs": [
    {
     "name": "stdout",
     "output_type": "stream",
     "text": [
      "Computation time: 9.80\n"
     ]
    },
    {
     "name": "stderr",
     "output_type": "stream",
     "text": [
      "/Users/danielberestov/Desktop/CS145/Project/cs145-project/data_utils.py:88: RuntimeWarning: invalid value encountered in sqrt\n",
      "  M = np.dot(X, (X_train).T)\n"
     ]
    }
   ],
   "source": [
    "time_start =time.time()\n",
    "dists = compute_L2_distances_vectorized(np_Train[:,1:],np_Val[:,1:])\n",
    "print('Computation time: %.2f'%(time.time()-time_start))"
   ]
  },
  {
   "cell_type": "code",
   "execution_count": 21,
   "metadata": {
    "scrolled": true
   },
   "outputs": [
    {
     "name": "stdout",
     "output_type": "stream",
     "text": [
      "(9928, 10381)\n"
     ]
    }
   ],
   "source": [
    "print(dists.shape)"
   ]
  },
  {
   "cell_type": "code",
   "execution_count": 22,
   "metadata": {},
   "outputs": [
    {
     "name": "stdout",
     "output_type": "stream",
     "text": [
      "[[  1653. 114935.]\n",
      " [  2011.   2012.]\n",
      " [  2054.   2040.]\n",
      " ...\n",
      " [ 49649.  94780.]\n",
      " [   251.  83374.]\n",
      " [106889.  77455.]]\n"
     ]
    }
   ],
   "source": [
    "k_val = 2\n",
    "\n",
    "most_similar_movie_ids = get_closest_related_movie_ids(dists, np_Train, k_val)\n",
    "\n",
    "# Will return the k_val number of movie ids \n",
    "print(most_similar_movie_ids)"
   ]
  }
 ],
 "metadata": {
  "kernelspec": {
   "display_name": "Python 3",
   "language": "python",
   "name": "python3"
  },
  "language_info": {
   "codemirror_mode": {
    "name": "ipython",
    "version": 3
   },
   "file_extension": ".py",
   "mimetype": "text/x-python",
   "name": "python",
   "nbconvert_exporter": "python",
   "pygments_lexer": "ipython3",
   "version": "3.6.5"
  }
 },
 "nbformat": 4,
 "nbformat_minor": 2
}
